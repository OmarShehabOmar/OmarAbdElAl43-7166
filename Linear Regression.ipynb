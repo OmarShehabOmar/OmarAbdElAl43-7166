{
 "cells": [
  {
   "cell_type": "code",
   "execution_count": 2,
   "id": "d9d32cfe",
   "metadata": {},
   "outputs": [],
   "source": [
    "from sklearn.model_selection import train_test_split,cross_val_score\n",
    "from sklearn import metrics, linear_model\n",
    "from sklearn.metrics import confusion_matrix\n",
    "from sklearn.metrics import accuracy_score, precision_score, recall_score, f1_score\n",
    "from sklearn.linear_model import Ridge\n",
    "from sklearn.preprocessing import PolynomialFeatures\n",
    "from sklearn import preprocessing\n",
    "from sklearn.metrics import accuracy_score, r2_score\n",
    "import warnings\n",
    "warnings.filterwarnings(\"ignore\")\n",
    "import numpy as np\n",
    "import pandas as pd\n",
    "import matplotlib.pyplot as plt\n",
    "import seaborn as sns"
   ]
  },
  {
   "cell_type": "code",
   "execution_count": 3,
   "id": "74fc9216",
   "metadata": {},
   "outputs": [
    {
     "data": {
      "text/html": [
       "<div>\n",
       "<style scoped>\n",
       "    .dataframe tbody tr th:only-of-type {\n",
       "        vertical-align: middle;\n",
       "    }\n",
       "\n",
       "    .dataframe tbody tr th {\n",
       "        vertical-align: top;\n",
       "    }\n",
       "\n",
       "    .dataframe thead th {\n",
       "        text-align: right;\n",
       "    }\n",
       "</style>\n",
       "<table border=\"1\" class=\"dataframe\">\n",
       "  <thead>\n",
       "    <tr style=\"text-align: right;\">\n",
       "      <th></th>\n",
       "      <th>0.00632  18.00   2.310  0  0.5380  6.5750  65.20  4.0900   1  296.0  15.30 396.90   4.98  24.00</th>\n",
       "    </tr>\n",
       "  </thead>\n",
       "  <tbody>\n",
       "    <tr>\n",
       "      <th>0</th>\n",
       "      <td>0.02731   0.00   7.070  0  0.4690  6.4210  78...</td>\n",
       "    </tr>\n",
       "    <tr>\n",
       "      <th>1</th>\n",
       "      <td>0.02729   0.00   7.070  0  0.4690  7.1850  61...</td>\n",
       "    </tr>\n",
       "    <tr>\n",
       "      <th>2</th>\n",
       "      <td>0.03237   0.00   2.180  0  0.4580  6.9980  45...</td>\n",
       "    </tr>\n",
       "    <tr>\n",
       "      <th>3</th>\n",
       "      <td>0.06905   0.00   2.180  0  0.4580  7.1470  54...</td>\n",
       "    </tr>\n",
       "    <tr>\n",
       "      <th>4</th>\n",
       "      <td>0.02985   0.00   2.180  0  0.4580  6.4300  58...</td>\n",
       "    </tr>\n",
       "  </tbody>\n",
       "</table>\n",
       "</div>"
      ],
      "text/plain": [
       "   0.00632  18.00   2.310  0  0.5380  6.5750  65.20  4.0900   1  296.0  15.30 396.90   4.98  24.00\n",
       "0   0.02731   0.00   7.070  0  0.4690  6.4210  78...                                              \n",
       "1   0.02729   0.00   7.070  0  0.4690  7.1850  61...                                              \n",
       "2   0.03237   0.00   2.180  0  0.4580  6.9980  45...                                              \n",
       "3   0.06905   0.00   2.180  0  0.4580  7.1470  54...                                              \n",
       "4   0.02985   0.00   2.180  0  0.4580  6.4300  58...                                              "
      ]
     },
     "execution_count": 3,
     "metadata": {},
     "output_type": "execute_result"
    }
   ],
   "source": [
    "df=pd.read_csv(\"housing.csv\")\n",
    "df.head()"
   ]
  },
  {
   "cell_type": "code",
   "execution_count": 4,
   "id": "40908214",
   "metadata": {},
   "outputs": [
    {
     "data": {
      "text/html": [
       "<div>\n",
       "<style scoped>\n",
       "    .dataframe tbody tr th:only-of-type {\n",
       "        vertical-align: middle;\n",
       "    }\n",
       "\n",
       "    .dataframe tbody tr th {\n",
       "        vertical-align: top;\n",
       "    }\n",
       "\n",
       "    .dataframe thead th {\n",
       "        text-align: right;\n",
       "    }\n",
       "</style>\n",
       "<table border=\"1\" class=\"dataframe\">\n",
       "  <thead>\n",
       "    <tr style=\"text-align: right;\">\n",
       "      <th></th>\n",
       "      <th>CRIM</th>\n",
       "      <th>ZN</th>\n",
       "      <th>INDUS</th>\n",
       "      <th>CHAS</th>\n",
       "      <th>NOX</th>\n",
       "      <th>RM</th>\n",
       "      <th>AGE</th>\n",
       "      <th>DIS</th>\n",
       "      <th>RAD</th>\n",
       "      <th>TAX</th>\n",
       "      <th>PTRATIO</th>\n",
       "      <th>B</th>\n",
       "      <th>LSTAT</th>\n",
       "    </tr>\n",
       "  </thead>\n",
       "  <tbody>\n",
       "    <tr>\n",
       "      <th>0</th>\n",
       "      <td>0.00632</td>\n",
       "      <td>18.0</td>\n",
       "      <td>2.31</td>\n",
       "      <td>0.0</td>\n",
       "      <td>0.538</td>\n",
       "      <td>6.575</td>\n",
       "      <td>65.2</td>\n",
       "      <td>4.0900</td>\n",
       "      <td>1.0</td>\n",
       "      <td>296.0</td>\n",
       "      <td>15.3</td>\n",
       "      <td>396.90</td>\n",
       "      <td>4.98</td>\n",
       "    </tr>\n",
       "    <tr>\n",
       "      <th>1</th>\n",
       "      <td>0.02731</td>\n",
       "      <td>0.0</td>\n",
       "      <td>7.07</td>\n",
       "      <td>0.0</td>\n",
       "      <td>0.469</td>\n",
       "      <td>6.421</td>\n",
       "      <td>78.9</td>\n",
       "      <td>4.9671</td>\n",
       "      <td>2.0</td>\n",
       "      <td>242.0</td>\n",
       "      <td>17.8</td>\n",
       "      <td>396.90</td>\n",
       "      <td>9.14</td>\n",
       "    </tr>\n",
       "    <tr>\n",
       "      <th>2</th>\n",
       "      <td>0.02729</td>\n",
       "      <td>0.0</td>\n",
       "      <td>7.07</td>\n",
       "      <td>0.0</td>\n",
       "      <td>0.469</td>\n",
       "      <td>7.185</td>\n",
       "      <td>61.1</td>\n",
       "      <td>4.9671</td>\n",
       "      <td>2.0</td>\n",
       "      <td>242.0</td>\n",
       "      <td>17.8</td>\n",
       "      <td>392.83</td>\n",
       "      <td>4.03</td>\n",
       "    </tr>\n",
       "    <tr>\n",
       "      <th>3</th>\n",
       "      <td>0.03237</td>\n",
       "      <td>0.0</td>\n",
       "      <td>2.18</td>\n",
       "      <td>0.0</td>\n",
       "      <td>0.458</td>\n",
       "      <td>6.998</td>\n",
       "      <td>45.8</td>\n",
       "      <td>6.0622</td>\n",
       "      <td>3.0</td>\n",
       "      <td>222.0</td>\n",
       "      <td>18.7</td>\n",
       "      <td>394.63</td>\n",
       "      <td>2.94</td>\n",
       "    </tr>\n",
       "    <tr>\n",
       "      <th>4</th>\n",
       "      <td>0.06905</td>\n",
       "      <td>0.0</td>\n",
       "      <td>2.18</td>\n",
       "      <td>0.0</td>\n",
       "      <td>0.458</td>\n",
       "      <td>7.147</td>\n",
       "      <td>54.2</td>\n",
       "      <td>6.0622</td>\n",
       "      <td>3.0</td>\n",
       "      <td>222.0</td>\n",
       "      <td>18.7</td>\n",
       "      <td>396.90</td>\n",
       "      <td>5.33</td>\n",
       "    </tr>\n",
       "  </tbody>\n",
       "</table>\n",
       "</div>"
      ],
      "text/plain": [
       "      CRIM    ZN  INDUS  CHAS    NOX     RM   AGE     DIS  RAD    TAX  \\\n",
       "0  0.00632  18.0   2.31   0.0  0.538  6.575  65.2  4.0900  1.0  296.0   \n",
       "1  0.02731   0.0   7.07   0.0  0.469  6.421  78.9  4.9671  2.0  242.0   \n",
       "2  0.02729   0.0   7.07   0.0  0.469  7.185  61.1  4.9671  2.0  242.0   \n",
       "3  0.03237   0.0   2.18   0.0  0.458  6.998  45.8  6.0622  3.0  222.0   \n",
       "4  0.06905   0.0   2.18   0.0  0.458  7.147  54.2  6.0622  3.0  222.0   \n",
       "\n",
       "   PTRATIO       B  LSTAT  \n",
       "0     15.3  396.90   4.98  \n",
       "1     17.8  396.90   9.14  \n",
       "2     17.8  392.83   4.03  \n",
       "3     18.7  394.63   2.94  \n",
       "4     18.7  396.90   5.33  "
      ]
     },
     "execution_count": 4,
     "metadata": {},
     "output_type": "execute_result"
    }
   ],
   "source": [
    "from sklearn.datasets import load_boston\n",
    "boston = load_boston()\n",
    "df = pd.DataFrame(boston.data, columns = boston.feature_names)\n",
    "df.head()"
   ]
  },
  {
   "cell_type": "code",
   "execution_count": 8,
   "id": "a90d539b",
   "metadata": {},
   "outputs": [],
   "source": [
    "\n",
    "scaler = preprocessing.MinMaxScaler()\n",
    "x_scaled = scaler.fit_transform(df)\n",
    "y = boston.target\n"
   ]
  },
  {
   "cell_type": "code",
   "execution_count": 20,
   "id": "0a281d43",
   "metadata": {},
   "outputs": [
    {
     "name": "stdout",
     "output_type": "stream",
     "text": [
      "Accuracy of test is  61.86013596996644\n",
      "mean square error of test is  6.002516027045947\n",
      "Accuracy of val is  61.86013596996644\n",
      "mean square error of val is  4.174849555268342\n"
     ]
    }
   ],
   "source": [
    "X_train, X_test, y_train, y_test = train_test_split(df, y, test_size=0.3)\n",
    "X_train, X_val, y_train, y_val = train_test_split(X_train, y_train,test_size=0.35) \n",
    "lr=linear_model.LinearRegression()\n",
    "lr.fit(X_train,y_train)\n",
    "pred=lr.predict(X_test)\n",
    "accuracy=lr.score(X_test,y_test)\n",
    "print(\"Accuracy of test is \",accuracy*100)\n",
    "io=np.sqrt(metrics.mean_squared_error(y_test,pred))\n",
    "print(\"mean square error of test is \",io)\n",
    "\n",
    "\n",
    "pred_val=lr.predict(X_val)\n",
    "accuracy_val=lr.score(X_val,y_val)\n",
    "print(\"Accuracy of val is \",accuracy*100)\n",
    "io=np.sqrt(metrics.mean_squared_error(y_val,pred_val))\n",
    "print(\"mean square error of val is \",io)"
   ]
  },
  {
   "cell_type": "code",
   "execution_count": 32,
   "id": "f6d35469",
   "metadata": {},
   "outputs": [
    {
     "name": "stdout",
     "output_type": "stream",
     "text": [
      "The best degree in train is 4  with value  1.4258507992085474e-11\n",
      "The best degree in val is 1  with value  4.174849555268324\n"
     ]
    }
   ],
   "source": [
    "from sklearn.metrics import mean_squared_error, r2_score\n",
    "list_mse_train=[]\n",
    "list_mse_val=[]\n",
    "list_deg=[]\n",
    "for deg in range(1,8):\n",
    "    poly_reg = PolynomialFeatures(degree=deg)\n",
    "    X_poly = poly_reg.fit_transform(X_train)\n",
    "    X_val_pol=poly_reg.transform(X_val)\n",
    "    pol_reg = linear_model.LinearRegression()\n",
    "    pol_reg.fit(X_poly, y_train)\n",
    "    y_predict= pol_reg.predict(X_poly)\n",
    "    list_deg.append(deg)\n",
    "    list_mse_train.append(np.sqrt(mean_squared_error(y_train, y_predict)))\n",
    "    list_mse_val.append(np.sqrt(mean_squared_error(y_val, pol_reg.predict(X_val_pol))))\n",
    "print(\"The best degree in train is\",list_deg[np.argmin(list_mse_train)],\" with value \",list_mse_train[np.argmin(list_mse_train)]) \n",
    "print(\"The best degree in val is\",list_deg[np.argmin(list_mse_val)],\" with value \",list_mse_val[np.argmin(list_mse_val)]) \n"
   ]
  },
  {
   "cell_type": "code",
   "execution_count": 34,
   "id": "0600814b",
   "metadata": {},
   "outputs": [
    {
     "data": {
      "text/plain": [
       "(4.174849555268326, 0)"
      ]
     },
     "execution_count": 34,
     "metadata": {},
     "output_type": "execute_result"
    }
   ],
   "source": [
    "err_val=[]\n",
    "deg=[]\n",
    "err_train=[]\n",
    "alpha=[]\n",
    "lambds=[0,0.01,0.02,0.04,0.08,0.16,0.32,0.64,1.28,2.56,5.12,10.24]\n",
    "ridge = Ridge()\n",
    "for i in lambds:\n",
    "    alpha.append(i)\n",
    "    poly = PolynomialFeatures(degree = 1)\n",
    "    X_poly = poly.fit_transform(X_train)\n",
    "    x_poly_val=poly.transform(X_val)\n",
    "    pol=Ridge(alpha=i)\n",
    "    pol.fit(X_poly, y_train) \n",
    "    y_pred=pol.predict(x_poly_val)\n",
    "    mean_error=np.sqrt(mean_squared_error(y_val,y_pred))\n",
    "    err_val.append(mean_error)\n",
    "    y_train_pred=pol.predict(X_poly)\n",
    "    mean_error_train=np.sqrt(mean_squared_error(y_train,y_train_pred))\n",
    "    err_train.append(mean_error_train)\n",
    "np.min(err_val), np.argmin(err_val)    "
   ]
  },
  {
   "cell_type": "code",
   "execution_count": 37,
   "id": "db256c77",
   "metadata": {},
   "outputs": [
    {
     "data": {
      "text/plain": [
       "(4.174849555268319, 0)"
      ]
     },
     "execution_count": 37,
     "metadata": {},
     "output_type": "execute_result"
    }
   ],
   "source": [
    "from sklearn.linear_model import Lasso\n",
    "err_val_lasso=[]\n",
    "deg=[]\n",
    "err_train_lasso=[]\n",
    "alpha=[]\n",
    "lambds=[0,0.01,0.02,0.04,0.08,0.16,0.32,0.64,1.28,2.56,5.12,10.24]\n",
    "lasso = Lasso()\n",
    "for i in lambds:\n",
    "    alpha.append(i)\n",
    "    poly = PolynomialFeatures(degree = 1)\n",
    "    X_poly = poly.fit_transform(X_train)\n",
    "    x_poly_val=poly.transform(X_val)\n",
    "    pol=Lasso(alpha=i)\n",
    "    pol.fit(X_poly, y_train) \n",
    "    y_pred=pol.predict(x_poly_val)\n",
    "    mean_error=np.sqrt(mean_squared_error(y_val,y_pred))\n",
    "    err_val_lasso.append(mean_error)\n",
    "    y_train_pred=pol.predict(X_poly)\n",
    "    mean_error_train=np.sqrt(mean_squared_error(y_train,y_train_pred))\n",
    "    err_train_lasso.append(mean_error_train)\n",
    "np.min(err_val_lasso), np.argmin(err_val_lasso)    "
   ]
  },
  {
   "cell_type": "code",
   "execution_count": null,
   "id": "5fc69df9",
   "metadata": {},
   "outputs": [],
   "source": []
  }
 ],
 "metadata": {
  "kernelspec": {
   "display_name": "Python 3 (ipykernel)",
   "language": "python",
   "name": "python3"
  },
  "language_info": {
   "codemirror_mode": {
    "name": "ipython",
    "version": 3
   },
   "file_extension": ".py",
   "mimetype": "text/x-python",
   "name": "python",
   "nbconvert_exporter": "python",
   "pygments_lexer": "ipython3",
   "version": "3.9.7"
  }
 },
 "nbformat": 4,
 "nbformat_minor": 5
}
